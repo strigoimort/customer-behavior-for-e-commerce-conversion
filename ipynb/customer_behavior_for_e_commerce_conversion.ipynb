{
 "cells": [
  {
   "cell_type": "code",
   "execution_count": null,
   "metadata": {},
   "outputs": [],
   "source": [
    "# Import Library\n",
    "import pandas as pd\n",
    "import matplotlib.pyplot as plt"
   ]
  },
  {
   "cell_type": "code",
   "execution_count": null,
   "metadata": {},
   "outputs": [],
   "source": [
    "# Load Data\n",
    "data = pd.read_csv('data.csv')\n",
    "df = pd.DataFrame(data)\n",
    "\n",
    "# Calculate additional columns as per the SQL query\n",
    "df['percentage_microsite_to_pdp'] = round((df['view_pdp'] - df['view_microsite']) / df['view_microsite'] * 100)\n",
    "df['percentage_pdp_to_promo'] = round((df['input_promo'] - df['view_pdp']) / df['view_pdp'] * 100)\n",
    "df['percentage_promo_to_bayar'] = round((df['metode_bayar'] - df['input_promo']) / df['input_promo'] * 100)\n",
    "df['percentage_pdp_to_bayar'] = round((df['metode_bayar'] - df['input_promo'] - df['view_pdp']) / df['view_pdp'] * 100)"
   ]
  },
  {
   "cell_type": "code",
   "execution_count": null,
   "metadata": {},
   "outputs": [],
   "source": [
    "# EDA and Visualization\n",
    "# Bar chart for total users based on whether they make an order or not\n",
    "plt.figure(figsize=(10, 6))\n",
    "plt.bar(df['make_order'], df['total_user'], color=['blue', 'orange'])\n",
    "plt.title('Total Users Based on Making an Order')\n",
    "plt.xlabel('Make Order')\n",
    "plt.ylabel('Total Users')\n",
    "plt.xticks(df['make_order'])\n",
    "plt.show()"
   ]
  },
  {
   "cell_type": "code",
   "execution_count": null,
   "metadata": {},
   "outputs": [],
   "source": [
    "# Microsite to PDP\n",
    "plt.figure(figsize=(10, 6))\n",
    "plt.bar(df['make_order'], df['percentage_microsite_to_pdp'], color=['green', 'red'])\n",
    "plt.title('Percentage Microsite to PDP Based on Making an Order')\n",
    "plt.xlabel('Make Order')\n",
    "plt.ylabel('Percentage')\n",
    "plt.xticks(df['make_order'])\n",
    "plt.show()"
   ]
  },
  {
   "cell_type": "code",
   "execution_count": null,
   "metadata": {},
   "outputs": [],
   "source": [
    "# PDP to Promo\n",
    "plt.figure(figsize=(10, 6))\n",
    "plt.bar(df['make_order'], df['percentage_pdp_to_promo'], color=['purple', 'yellow'])\n",
    "plt.title('Percentage PDP to Promo Based on Making an Order')\n",
    "plt.xlabel('Make Order')\n",
    "plt.ylabel('Percentage')\n",
    "plt.xticks(df['make_order'])\n",
    "plt.show()"
   ]
  },
  {
   "cell_type": "code",
   "execution_count": null,
   "metadata": {},
   "outputs": [],
   "source": [
    "# Promo to Bayar\n",
    "plt.figure(figsize=(10, 6))\n",
    "plt.bar(df['make_order'], df['percentage_promo_to_bayar'], color=['cyan', 'pink'])\n",
    "plt.title('Percentage Promo to Bayar Based on Making an Order')\n",
    "plt.xlabel('Make Order')\n",
    "plt.ylabel('Percentage')\n",
    "plt.xticks(df['make_order'])\n",
    "plt.show()"
   ]
  },
  {
   "cell_type": "code",
   "execution_count": null,
   "metadata": {},
   "outputs": [],
   "source": [
    "# PDP to Bayar\n",
    "plt.figure(figsize=(10, 6))\n",
    "plt.bar(df['make_order'], df['percentage_pdp_to_bayar'], color=['brown', 'grey'])\n",
    "plt.title('Percentage PDP to Bayar Based on Making an Order')\n",
    "plt.xlabel('Make Order')\n",
    "plt.ylabel('Percentage')\n",
    "plt.xticks(df['make_order'])\n",
    "plt.show()"
   ]
  }
 ],
 "metadata": {
  "language_info": {
   "name": "python"
  }
 },
 "nbformat": 4,
 "nbformat_minor": 2
}
